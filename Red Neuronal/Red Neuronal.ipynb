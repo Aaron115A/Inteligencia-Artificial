{
 "cells": [
  {
   "cell_type": "code",
   "execution_count": 2,
   "id": "f606fd3f",
   "metadata": {},
   "outputs": [],
   "source": [
    "import tensorflow as tf\n",
    "import numpy as np"
   ]
  },
  {
   "cell_type": "code",
   "execution_count": 3,
   "id": "d2ae15f8",
   "metadata": {},
   "outputs": [],
   "source": [
    "celsius = np.array([-40, -10, 0, 8, 15, 22, 38], dtype = float)\n",
    "fharenheit = np.array([-40, 14, 32, 46, 59, 72, 100], dtype = float)\n",
    "#Los datos puestos son los equivalentes entre cada uno"
   ]
  },
  {
   "cell_type": "code",
   "execution_count": 17,
   "id": "c904d25c",
   "metadata": {},
   "outputs": [],
   "source": [
    "## Se usa Keras, permite hacer las redes de forma simple\n",
    "#capa = tf.keras.layers.Dense(units=1, input_shape=[1])\n",
    "#modelo = tf.keras.Sequential([capa])\n",
    "oculta1 = tf.keras.layers.Dense(units = 3, input_shape=[1])\n",
    "oculta2 = tf.keras.layers.Dense(units=3)\n",
    "salida = tf.keras.layers.Dense(units=1)\n",
    "modelo = tf.keras.Sequential([oculta1, oculta2, salida])"
   ]
  },
  {
   "cell_type": "code",
   "execution_count": 18,
   "id": "db132d10",
   "metadata": {},
   "outputs": [],
   "source": [
    "modelo.compile(\n",
    "    optimizer = tf.keras.optimizers.Adam(0.1),\n",
    "    loss = 'mean_squared_error'\n",
    ")"
   ]
  },
  {
   "cell_type": "code",
   "execution_count": 19,
   "id": "ffecb7b7",
   "metadata": {},
   "outputs": [
    {
     "name": "stdout",
     "output_type": "stream",
     "text": [
      "Comenzando entrenamiento...\n",
      "Modelo entrenado!\n"
     ]
    }
   ],
   "source": [
    "print(\"Comenzando entrenamiento...\")\n",
    "historial = modelo.fit(celsius, fharenheit, epochs = 1000, verbose = False)\n",
    "print(\"Modelo entrenado!\")"
   ]
  },
  {
   "cell_type": "code",
   "execution_count": 20,
   "id": "67d2badf",
   "metadata": {},
   "outputs": [
    {
     "data": {
      "text/plain": [
       "[<matplotlib.lines.Line2D at 0x20afc7b9ad0>]"
      ]
     },
     "execution_count": 20,
     "metadata": {},
     "output_type": "execute_result"
    },
    {
     "data": {
      "image/png": "[encoded data removed]",
      "text/plain": [
       "<Figure size 640x480 with 1 Axes>"
      ]
     },
     "metadata": {},
     "output_type": "display_data"
    }
   ],
   "source": [
    "import matplotlib.pyplot as plt\n",
    "plt.xlabel(\"# Epoca\")\n",
    "plt.ylabel(\"Magnitud de pérdida\")\n",
    "plt.plot(historial.history[\"loss\"])"
   ]
  },
  {
   "cell_type": "code",
   "execution_count": null,
   "id": "7c0605a4",
   "metadata": {},
   "outputs": [],
   "source": [
    "#Una red más compleja dá mejores resultados y más rápido (\"\")"
   ]
  },
  {
   "cell_type": "code",
   "execution_count": 22,
   "id": "625ca894",
   "metadata": {},
   "outputs": [
    {
     "name": "stdout",
     "output_type": "stream",
     "text": [
      "Hagamos una predicción\n",
      "1/1 [==============================] - 0s 41ms/step\n",
      "El resultado es [[211.74744]]Fharenheit\n"
     ]
    }
   ],
   "source": [
    "print(\"Hagamos una predicción\")\n",
    "resultado = modelo.predict([100.0])\n",
    "print(\"El resultado es \" + str(resultado) + \"Fharenheit\")"
   ]
  },
  {
   "cell_type": "code",
   "execution_count": 24,
   "id": "54f811aa",
   "metadata": {},
   "outputs": [
    {
     "name": "stdout",
     "output_type": "stream",
     "text": [
      "Variables internas del modelo\n",
      "[array([[ 0.95629287, -0.08594373,  0.12995343]], dtype=float32), array([ 3.3493965, -2.7444968, -2.9615297], dtype=float32)]\n",
      "[array([[-0.37215787,  0.64065874,  0.71200013],\n",
      "       [ 0.8641021 , -1.1426291 , -1.0229949 ],\n",
      "       [ 0.11552344, -0.6959531 , -0.2654118 ]], dtype=float32), array([-2.9797225,  3.2859862,  3.3719797], dtype=float32)]\n",
      "[array([[-0.85855275],\n",
      "       [ 1.6094368 ],\n",
      "       [ 0.6032925 ]], dtype=float32), array([3.2468235], dtype=float32)]\n"
     ]
    }
   ],
   "source": [
    "print(\"Variables internas del modelo\")\n",
    "#print(capa.get_weights())\n",
    "print(oculta1.get_weights())\n",
    "print(oculta2.get_weights())\n",
    "print(salida.get_weights())"
   ]
  },
  {
   "cell_type": "code",
   "execution_count": null,
   "id": "b759e5ad",
   "metadata": {},
   "outputs": [],
   "source": []
  }
 ],
 "metadata": {
  "kernelspec": {
   "display_name": "Python 3 (ipykernel)",
   "language": "python",
   "name": "python3"
  },
  "language_info": {
   "codemirror_mode": {
    "name": "ipython",
    "version": 3
   },
   "file_extension": ".py",
   "mimetype": "text/x-python",
   "name": "python",
   "nbconvert_exporter": "python",
   "pygments_lexer": "ipython3",
   "version": "3.11.3"
  }
 },
 "nbformat": 4,
 "nbformat_minor": 5
}
